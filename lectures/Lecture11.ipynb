{
 "cells": [
  {
   "cell_type": "markdown",
   "id": "b5049e6d-27d8-4f2b-81a2-3022151388be",
   "metadata": {},
   "source": [
    "# Lecture 11: Introduction to Differential Programming with JAX\n",
    "\n",
    "# Overview:\n",
    "\n",
    "# 1. JAX Basics\n",
    "# 2. Lorenz System\n",
    "# 3. JAX-FEM"
   ]
  },
  {
   "cell_type": "code",
   "execution_count": 1,
   "id": "8b70fefe-d99a-4cb4-afde-c3d18861da94",
   "metadata": {},
   "outputs": [
    {
     "name": "stdout",
     "output_type": "stream",
     "text": [
      "       __       ___      ___   ___                _______  _______ .___  ___. \n",
      "      |  |     /   \\     \\  \\ /  /               |   ____||   ____||   \\/   | \n",
      "      |  |    /  ^  \\     \\  V  /      ______    |  |__   |  |__   |  \\  /  | \n",
      ".--.  |  |   /  /_\\  \\     >   <      |______|   |   __|  |   __|  |  |\\/|  | \n",
      "|  `--'  |  /  _____  \\   /  .  \\                |  |     |  |____ |  |  |  | \n",
      " \\______/  /__/     \\__\\ /__/ \\__\\               |__|     |_______||__|  |__| \n",
      "                                                                              \n",
      "\n"
     ]
    },
    {
     "name": "stderr",
     "output_type": "stream",
     "text": [
      "/Users/tianjuxue/miniconda3/envs/fenics/lib/python3.9/site-packages/tqdm/auto.py:21: TqdmWarning: IProgress not found. Please update jupyter and ipywidgets. See https://ipywidgets.readthedocs.io/en/stable/user_install.html\n",
      "  from .autonotebook import tqdm as notebook_tqdm\n"
     ]
    }
   ],
   "source": [
    "import jax\n",
    "import jax.numpy as np\n",
    "from jax import random\n",
    "from jax.flatten_util import ravel_pytree\n",
    "from jax.scipy.special import logsumexp\n",
    "from jax_fem.problem import Problem\n",
    "from jax_fem.solver import solver, ad_wrapper\n",
    "from jax_fem.generate_mesh import rectangle_mesh\n",
    "from jax_fem.utils import save_sol\n",
    "from jax_fem.generate_mesh import get_meshio_cell_type, Mesh, rectangle_mesh\n",
    "import numpy as onp\n",
    "from functools import partial\n",
    "import matplotlib.pyplot as plt\n",
    "import scipy.optimize as opt\n",
    "import sys\n",
    "import time\n",
    "from functools import partial\n",
    "import tensorflow as tf\n",
    "# Ensure TF does not see GPU and grab all GPU memory.\n",
    "# tf.config.set_visible_devices([], device_type='GPU')\n",
    "import tensorflow_datasets as tfds"
   ]
  },
  {
   "cell_type": "markdown",
   "id": "66be4e60-e122-45aa-ae7f-c7f7f7ff8434",
   "metadata": {},
   "source": [
    "# 1. JAX Basics"
   ]
  },
  {
   "cell_type": "markdown",
   "id": "076c7415-997f-4e25-a78c-3e6a1e39a9b4",
   "metadata": {},
   "source": [
    "## 1.1 Just-in-time Compilation (JIT): `jit`\n",
    "\n",
    "In order to speed up your code, you can use the `jit` decorator, which will cached your operation. Let's compare the speed with and without `jit`."
   ]
  },
  {
   "cell_type": "code",
   "execution_count": 2,
   "id": "6cbc055e-36d7-446a-9a1d-32afa8869237",
   "metadata": {},
   "outputs": [
    {
     "name": "stdout",
     "output_type": "stream",
     "text": [
      "8.83 ms ± 714 µs per loop (mean ± std. dev. of 7 runs, 1 loop each)\n"
     ]
    }
   ],
   "source": [
    "def selu(x, alpha=1.67, lmbda=1.05):\n",
    "  return lmbda * np.where(x > 0, x, alpha * np.exp(x) - alpha)\n",
    "\n",
    "key = random.PRNGKey(0)\n",
    "x = random.normal(key, (1000000,))\n",
    "%timeit selu(x).block_until_ready()"
   ]
  },
  {
   "cell_type": "code",
   "execution_count": 3,
   "id": "b8a04532-42e1-4789-b68f-9f3af04b64e4",
   "metadata": {},
   "outputs": [
    {
     "name": "stdout",
     "output_type": "stream",
     "text": [
      "1.88 ms ± 24.4 µs per loop (mean ± std. dev. of 7 runs, 100 loops each)\n"
     ]
    }
   ],
   "source": [
    "selu_jit = jax.jit(selu)\n",
    "%timeit selu_jit(x).block_until_ready()"
   ]
  },
  {
   "cell_type": "markdown",
   "id": "3685960a-0a18-487e-be7b-26936b5d161d",
   "metadata": {},
   "source": [
    "## 1.2 Automatic Differentiation: `grad`\n",
    "\n",
    "Taking the gradient in JAX is pretty easy, you just need to call the `grad` function from the JAX library. Let's begin with a simple example that is calculating the grad of $x^2$. From calculus, we know that:\n",
    "\n",
    "$$\n",
    "\\frac{\\partial x^2}{\\partial x} = 2 x\n",
    "$$\n",
    "\n",
    "$$\n",
    "\\frac{\\partial^2 x^2}{\\partial x^2} = 2\n",
    "$$\n",
    "\n",
    "$$\n",
    "\\frac{\\partial^3 x^2}{\\partial x^3} = 0\n",
    "$$\n"
   ]
  },
  {
   "cell_type": "code",
   "execution_count": 4,
   "id": "d889f1c9-f2f7-4323-9dc2-491e8b46c969",
   "metadata": {},
   "outputs": [
    {
     "name": "stdout",
     "output_type": "stream",
     "text": [
      "grad 2² =  4.0\n",
      "grad grad 2² =  2.0\n",
      "grad grad grad 2² =  0.0\n"
     ]
    }
   ],
   "source": [
    "square = lambda x: np.square(x)\n",
    "\n",
    "grad_square = jax.grad(square)\n",
    "grad_grad_square = jax.grad(jax.grad(square))\n",
    "grad_grad_grad_square = jax.grad(jax.grad(jax.grad(square)))\n",
    "print(f\"grad 2² = \", grad_square(2.))\n",
    "print(f\"grad grad 2² = \", grad_grad_square(2.))\n",
    "print(f\"grad grad grad 2² = \", grad_grad_grad_square(2.))"
   ]
  },
  {
   "cell_type": "markdown",
   "id": "dcf54125-e15f-45fa-bd05-5d1753f8fc2e",
   "metadata": {},
   "source": [
    "## 1.3 Vectorizing Map: `vmap`\n",
    "\n",
    "`vmap`, or vectorizing map, maps a function along array axes, having better performance mainly when is composed with `jit`. Let's apply this for matrix-vector products."
   ]
  },
  {
   "cell_type": "code",
   "execution_count": 5,
   "id": "787d2880-8bed-4582-9d2f-b651c17edd34",
   "metadata": {},
   "outputs": [],
   "source": [
    "mat = random.normal(key, (150, 100))\n",
    "batched_x = random.normal(key, (10, 100))\n",
    "\n",
    "def apply_matrix(v):\n",
    "  return np.dot(mat, v)"
   ]
  },
  {
   "cell_type": "markdown",
   "id": "4676553b-0502-4cb3-823e-9af002773842",
   "metadata": {},
   "source": [
    "In order to batch naively, we can use a for loop to batch."
   ]
  },
  {
   "cell_type": "code",
   "execution_count": 6,
   "id": "eeaed344-40a2-4ed9-997d-e749f041ee13",
   "metadata": {},
   "outputs": [
    {
     "name": "stdout",
     "output_type": "stream",
     "text": [
      "Naively batched\n",
      "666 µs ± 6.56 µs per loop (mean ± std. dev. of 7 runs, 1,000 loops each)\n"
     ]
    }
   ],
   "source": [
    "def naively_batched_apply_matrix(v_batched):\n",
    "  return np.stack([apply_matrix(v) for v in v_batched])\n",
    "\n",
    "print('Naively batched')\n",
    "%timeit naively_batched_apply_matrix(batched_x).block_until_ready()"
   ]
  },
  {
   "cell_type": "markdown",
   "id": "2e4d968f-eb65-44c0-8d71-e505d9ee4a46",
   "metadata": {},
   "source": [
    "Now we can use vmap to batch our multiplication\n"
   ]
  },
  {
   "cell_type": "code",
   "execution_count": 7,
   "id": "2d557ddc-a440-434a-b8dd-093fccd62955",
   "metadata": {},
   "outputs": [
    {
     "name": "stdout",
     "output_type": "stream",
     "text": [
      "Auto-vectorized with vmap\n",
      "27.9 µs ± 558 ns per loop (mean ± std. dev. of 7 runs, 10,000 loops each)\n"
     ]
    }
   ],
   "source": [
    "@jax.jit\n",
    "def vmap_batched_apply_matrix(v_batched):\n",
    "  return jax.vmap(apply_matrix)(v_batched)\n",
    "\n",
    "print('Auto-vectorized with vmap')\n",
    "%timeit vmap_batched_apply_matrix(batched_x).block_until_ready()"
   ]
  },
  {
   "cell_type": "markdown",
   "id": "7bece259-6672-472c-802a-69d7f22ab82a",
   "metadata": {},
   "source": [
    "## 1.4 Training a neural network with JAX\n",
    "\n",
    "This example is directly taken from the JAX official [user guide](https://docs.jax.dev/en/latest/notebooks/neural_network_with_tfds_data.html).\n",
    "\n",
    "We will first specify and train a simple MLP on MNIST using JAX for the computation. We will use PyTorch’s data loading API to load images and labels (because it’s pretty great, and the world doesn’t need yet another data loading library).\n",
    "\n",
    "We will see how `jit`, `grad` and `vmap` are used to achieve the goal."
   ]
  },
  {
   "cell_type": "markdown",
   "id": "2d854e9e-dac2-40e6-8bff-5a825209db17",
   "metadata": {},
   "source": [
    "### Neural Network Parameter Initialization\n",
    "\n",
    "**Mathematical Formulation**:\n",
    "For a neural network with layer dimensions $[d_0, d_1, ..., d_L]$:\n",
    "- Weight matrices: $W^{(l)} \\in \\mathbb{R}^{d_l \\times d_{l-1}}$\n",
    "- Bias vectors: $b^{(l)} \\in \\mathbb{R}^{d_l}$\n",
    "\n",
    "**Initialization Strategy**:\n",
    "$$\n",
    "\\begin{aligned}\n",
    "W^{(l)} &= \\mathcal{N}(0, \\sigma^2) \\cdot \\text{scale} \\\\\n",
    "b^{(l)} &= \\mathcal{N}(0, \\sigma^2) \\cdot \\text{scale}\n",
    "\\end{aligned}\n",
    "$$\n",
    "\n",
    "**Key Components**:\n",
    "- `random_layer_params`: Initializes parameters for one layer using JAX's PRNG\n",
    "- `init_network_params`: Creates parameter list for all layers\n",
    "- Layer sizes `[784, 512, 512, 10]` indicate:\n",
    "  - Input dimension: 784 (MNIST 28x28 pixels)\n",
    "  - Hidden layers: 512 units each\n",
    "  - Output: 10 classes"
   ]
  },
  {
   "cell_type": "code",
   "execution_count": 8,
   "id": "0b8ff9b6-af29-4c13-82e2-8b502ca8a5c8",
   "metadata": {},
   "outputs": [],
   "source": [
    "# A helper function to randomly initialize weights and biases\n",
    "# for a dense neural network layer\n",
    "def random_layer_params(m, n, key, scale=1e-2):\n",
    "    w_key, b_key = jax.random.split(key)\n",
    "    return scale * jax.random.normal(w_key, (n, m)), scale * jax.random.normal(b_key, (n,))\n",
    "\n",
    "# Initialize all layers for a fully-connected neural network with sizes \"sizes\"\n",
    "def init_network_params(sizes, key):\n",
    "    keys = jax.random.split(key, len(sizes))\n",
    "    return [random_layer_params(m, n, k) for m, n, k in zip(sizes[:-1], sizes[1:], keys)]\n",
    "\n",
    "layer_sizes = [784, 512, 512, 10]\n",
    "step_size = 0.01\n",
    "num_epochs = 3\n",
    "batch_size = 128\n",
    "n_targets = 10\n",
    "network_params = init_network_params(layer_sizes, jax.random.key(0))"
   ]
  },
  {
   "cell_type": "markdown",
   "id": "8cafda65-d44f-46c4-9528-c38cab79914a",
   "metadata": {},
   "source": [
    "### Neural Network Architecture\n",
    "\n",
    "**Activation Function** (ReLU):\n",
    "$$\n",
    "\\text{ReLU}(x) = \\max(0, x)\n",
    "$$\n",
    "\n",
    "**Forward Propagation**:\n",
    "For layer $l$ in $1,\\ldots,L-1$:\n",
    "$$\n",
    "a^{(l)} = W^{(l)}x^{(l-1)} + b^{(l)} \\\\\n",
    "x^{(l)} = \\text{ReLU}(a^{(l)})\n",
    "$$\n",
    "\n",
    "**Final Layer** (Log-Softmax):\n",
    "$$\n",
    "\\text{output} = \\textrm{log\\_softmax}(W^{(L)}x^{(L-1)} + b^{(L)})\n",
    "$$\n",
    "\n",
    "**Implementation Details**:\n",
    "- `predict`: Computes per-example predictions\n",
    "- `batched_predict`: Uses `vmap` for vectorized batch processing\n"
   ]
  },
  {
   "cell_type": "markdown",
   "id": "ff52279f-45a9-48fe-bea4-fc82189c65a6",
   "metadata": {},
   "source": [
    "Note that we’re defining this for a single image example. \n",
    "We’re going to use JAX’s `vmap` function to automatically handle mini-batches, with no performance penalty."
   ]
  },
  {
   "cell_type": "code",
   "execution_count": 9,
   "id": "c1a8675d-ebd2-4cf7-ac64-f5ba3b75dede",
   "metadata": {},
   "outputs": [],
   "source": [
    "def relu(x):\n",
    "    return np.maximum(0, x)\n",
    "\n",
    "def predict(network_params, image):\n",
    "    # per-example predictions\n",
    "    activations = image\n",
    "    for w, b in network_params[:-1]:\n",
    "        outputs = np.dot(w, activations) + b\n",
    "        activations = relu(outputs)\n",
    "\n",
    "    final_w, final_b = network_params[-1]\n",
    "    logits = np.dot(final_w, activations) + final_b\n",
    "    return logits - logsumexp(logits)"
   ]
  },
  {
   "cell_type": "markdown",
   "id": "c913fe9e-6d57-41be-a485-799d82531b67",
   "metadata": {},
   "source": [
    "Let’s check that our prediction function only works on single images."
   ]
  },
  {
   "cell_type": "code",
   "execution_count": 10,
   "id": "18678aab-ff77-43a7-9288-aff2b46730fe",
   "metadata": {},
   "outputs": [
    {
     "name": "stdout",
     "output_type": "stream",
     "text": [
      "(10,)\n"
     ]
    }
   ],
   "source": [
    "# This works on single examples\n",
    "random_flattened_image = jax.random.normal(random.key(1), (28 * 28,))\n",
    "preds = predict(network_params, random_flattened_image)\n",
    "print(preds.shape)"
   ]
  },
  {
   "cell_type": "code",
   "execution_count": 11,
   "id": "697a639d-3418-4477-99ac-9ac439b7c67d",
   "metadata": {},
   "outputs": [
    {
     "name": "stdout",
     "output_type": "stream",
     "text": [
      "Invalid shapes!\n"
     ]
    }
   ],
   "source": [
    "# Doesn't work with a batch\n",
    "random_flattened_images = random.normal(random.key(1), (10, 28 * 28))\n",
    "try:\n",
    "    preds = predict(network_params, random_flattened_images)\n",
    "except TypeError:\n",
    "    print('Invalid shapes!')"
   ]
  },
  {
   "cell_type": "code",
   "execution_count": 12,
   "id": "cc8a9ddc-5218-4f1d-9fd7-6a86dbcdcc8b",
   "metadata": {},
   "outputs": [
    {
     "name": "stdout",
     "output_type": "stream",
     "text": [
      "(10, 10)\n"
     ]
    }
   ],
   "source": [
    "# Let's upgrade it to handle batches using `vmap`\n",
    "\n",
    "# Make a batched version of the `predict` function\n",
    "batched_predict = jax.vmap(predict, in_axes=(None, 0))\n",
    "\n",
    "# `batched_predict` has the same call signature as `predict`\n",
    "batched_preds = batched_predict(network_params, random_flattened_images)\n",
    "print(batched_preds.shape)"
   ]
  },
  {
   "cell_type": "markdown",
   "id": "c1351556-d58d-4023-adb4-c74b11ae58cd",
   "metadata": {},
   "source": [
    "At this point, we have all the ingredients we need to define our neural network and train it. \n",
    "We’ve built an auto-batched version of predict, which we should be able to use in a loss function. \n",
    "We should be able to use grad to take the derivative of the loss with respect to the neural network parameters. \n",
    "Last, we should be able to use jit to speed up everything."
   ]
  },
  {
   "cell_type": "markdown",
   "id": "323bf940-8e35-4f15-923c-203708c02f8e",
   "metadata": {},
   "source": [
    "#### Training Infrastructure\n",
    "\n",
    "**One-Hot Encoding**:\n",
    "$$\n",
    "y_{\\text{onehot}}^{(i)}[k] = \n",
    "\\begin{cases}\n",
    "1 & \\text{if } k = y^{(i)} \\\\\n",
    "0 & \\text{otherwise}\n",
    "\\end{cases}\n",
    "$$\n",
    "\n",
    "**Accuracy Calculation**:\n",
    "$$\n",
    "\\text{Accuracy} = \\frac{1}{N}\\sum_{i=1}^N \\mathbb{I}(\\arg\\max \\hat{y}^{(i)} = \\arg\\max y^{(i)})\n",
    "$$\n",
    "\n",
    "**Cross-Entropy Loss**:\n",
    "$$\n",
    "\\mathcal{L} = -\\frac{1}{N}\\sum_{i=1}^N \\sum_{k=1}^K y_k^{(i)} \\log p_k^{(i)}\n",
    "$$\n",
    "\n",
    "\n",
    "**Key Components**:\n",
    "- `update`: JIT-compiled parameter update using `jax.grad`\n",
    "- Automatic differentiation handles complex gradient calculations through the network"
   ]
  },
  {
   "cell_type": "code",
   "execution_count": 13,
   "id": "1d43904b-0cd2-411f-ba31-833ffe726257",
   "metadata": {},
   "outputs": [],
   "source": [
    "def one_hot(x, k, dtype=np.float64):\n",
    "    \"\"\"Create a one-hot encoding of x of size k.\"\"\"\n",
    "    return np.array(x[:, None] == np.arange(k), dtype)\n",
    "\n",
    "def accuracy(network_params, images, targets):\n",
    "    target_class = np.argmax(targets, axis=1)\n",
    "    predicted_class = np.argmax(batched_predict(network_params, images), axis=1)\n",
    "    return np.mean(predicted_class == target_class)\n",
    "\n",
    "# def loss(network_params, images, targets):\n",
    "#     preds = batched_predict(network_params, images)\n",
    "#     return -np.mean(preds * targets)\n",
    "\n",
    "def loss(network_params, images, targets):\n",
    "    preds = batched_predict(network_params, images)\n",
    "    class_log_likelihoods = np.sum(preds * targets, axis=1)  # Sum over classes\n",
    "    return -np.mean(class_log_likelihoods)  # Mean over samples\n",
    "    \n",
    "@jax.jit\n",
    "def update(network_params, x, y):\n",
    "    grads = jax.grad(loss)(network_params, x, y)\n",
    "    return [(w - step_size * dw, b - step_size * db)\n",
    "            for (w, b), (dw, db) in zip(network_params, grads)]"
   ]
  },
  {
   "cell_type": "markdown",
   "id": "0d561e8b-9f54-4415-8bd9-0224dc1badd2",
   "metadata": {},
   "source": [
    "**Data loader** JAX is laser-focused on program transformations and accelerator-backed NumPy, so we don’t include data loading or munging in the JAX library. There are already a lot of great data loaders out there, so let’s just use them instead of reinventing anything. We’ll grab PyTorch’s data loader, and make a tiny shim to make it work with NumPy arrays."
   ]
  },
  {
   "cell_type": "code",
   "execution_count": 14,
   "id": "6cb6d37a-39e9-4fd1-ba97-5e17e6dc196a",
   "metadata": {},
   "outputs": [
    {
     "name": "stdout",
     "output_type": "stream",
     "text": [
      "Train: (60000, 784) (60000, 10)\n",
      "Test: (10000, 784) (10000, 10)\n"
     ]
    }
   ],
   "source": [
    "data_dir = '/tmp/tfds'\n",
    "\n",
    "# Fetch full datasets for evaluation\n",
    "# tfds.load returns tf.Tensors (or tf.data.Datasets if batch_size != -1)\n",
    "# You can convert them to NumPy arrays (or iterables of NumPy arrays) with tfds.dataset_as_numpy\n",
    "mnist_data, info = tfds.load(name=\"mnist\", batch_size=-1, data_dir=data_dir, with_info=True)\n",
    "mnist_data = tfds.as_numpy(mnist_data)\n",
    "train_data, test_data = mnist_data['train'], mnist_data['test']\n",
    "num_labels = info.features['label'].num_classes\n",
    "h, w, c = info.features['image'].shape\n",
    "num_pixels = h * w * c\n",
    "\n",
    "# Full train set\n",
    "train_images, train_labels = train_data['image'], train_data['label']\n",
    "train_images = np.reshape(train_images, (len(train_images), num_pixels))\n",
    "train_labels = one_hot(train_labels, num_labels)\n",
    "\n",
    "# Full test set\n",
    "test_images, test_labels = test_data['image'], test_data['label']\n",
    "test_images = np.reshape(test_images, (len(test_images), num_pixels))\n",
    "test_labels = one_hot(test_labels, num_labels)\n",
    "\n",
    "print('Train:', train_images.shape, train_labels.shape)\n",
    "print('Test:', test_images.shape, test_labels.shape)"
   ]
  },
  {
   "cell_type": "markdown",
   "id": "11500f6e-43f3-462b-baf0-b7bc39d220cc",
   "metadata": {},
   "source": [
    "### Training Process\n",
    "\n",
    "**Data Preparation**:\n",
    "- MNIST images flattened to $[N, 784]$\n",
    "- Pixel values not normalized (original range [0, 255])\n",
    "- Labels converted to one-hot encoding\n",
    "\n",
    "**Training Dynamics**:\n",
    "1. **Epoch Loop**: Process entire dataset `num_epochs` times\n",
    "2. **Batch Processing**:\n",
    "   $$\n",
    "   \\theta \\leftarrow \\theta - \\eta \\nabla_\\theta \\mathcal{L}_{batch}(\\theta)\n",
    "   $$\n",
    "3. **Validation**:\n",
    "   - Compute accuracy on full training and test sets\n",
    "   - Monitor for overfitting via generalization gap\n",
    "\n",
    "**Performance Metrics**:\n",
    "- **Training Time**: Tracked per epoch\n",
    "- **Accuracy Measurements**:\n",
    "  - Training Accuracy: Model performance on seen data\n",
    "  - Test Accuracy: Model generalization capability"
   ]
  },
  {
   "cell_type": "code",
   "execution_count": 15,
   "id": "6b7bdcaf-55c4-4c08-870a-d8a0520cab1b",
   "metadata": {},
   "outputs": [
    {
     "name": "stderr",
     "output_type": "stream",
     "text": [
      "2025-04-22 16:21:00.351975: W tensorflow/core/framework/local_rendezvous.cc:404] Local rendezvous is aborting with status: OUT_OF_RANGE: End of sequence\n"
     ]
    },
    {
     "name": "stdout",
     "output_type": "stream",
     "text": [
      "Epoch 0 in 4.73 sec\n",
      "Training set accuracy 0.9730833172798157\n",
      "Test set accuracy 0.9680999517440796\n"
     ]
    },
    {
     "name": "stderr",
     "output_type": "stream",
     "text": [
      "2025-04-22 16:21:07.518550: W tensorflow/core/framework/local_rendezvous.cc:404] Local rendezvous is aborting with status: OUT_OF_RANGE: End of sequence\n"
     ]
    },
    {
     "name": "stdout",
     "output_type": "stream",
     "text": [
      "Epoch 1 in 4.25 sec\n",
      "Training set accuracy 0.9836833477020264\n",
      "Test set accuracy 0.972599983215332\n"
     ]
    },
    {
     "name": "stderr",
     "output_type": "stream",
     "text": [
      "2025-04-22 16:21:12.774368: W tensorflow/core/framework/local_rendezvous.cc:404] Local rendezvous is aborting with status: OUT_OF_RANGE: End of sequence\n"
     ]
    },
    {
     "name": "stdout",
     "output_type": "stream",
     "text": [
      "Epoch 2 in 4.33 sec\n",
      "Training set accuracy 0.9893333315849304\n",
      "Test set accuracy 0.9768999814987183\n"
     ]
    }
   ],
   "source": [
    "def get_train_batches():\n",
    "    # as_supervised=True gives us the (image, label) as a tuple instead of a dict\n",
    "    ds = tfds.load(name='mnist', split='train', as_supervised=True, data_dir=data_dir)\n",
    "    # You can build up an arbitrary tf.data input pipeline\n",
    "    ds = ds.batch(batch_size).prefetch(1)\n",
    "    # tfds.dataset_as_numpy converts the tf.data.Dataset into an iterable of NumPy arrays\n",
    "    return tfds.as_numpy(ds)\n",
    "\n",
    "for epoch in range(num_epochs):\n",
    "    start_time = time.time()\n",
    "    for x, y in get_train_batches():\n",
    "        x = np.reshape(x, (len(x), num_pixels))\n",
    "        y = one_hot(y, num_labels)\n",
    "        network_params = update(network_params, x, y)\n",
    "    epoch_time = time.time() - start_time\n",
    "\n",
    "    train_acc = accuracy(network_params, train_images, train_labels)\n",
    "    test_acc = accuracy(network_params, test_images, test_labels)\n",
    "    print(\"Epoch {} in {:0.2f} sec\".format(epoch, epoch_time))\n",
    "    print(\"Training set accuracy {}\".format(train_acc))\n",
    "    print(\"Test set accuracy {}\".format(test_acc))"
   ]
  },
  {
   "cell_type": "code",
   "execution_count": null,
   "id": "2bdb4b6e-79f3-408a-b87e-47388d867df4",
   "metadata": {},
   "outputs": [],
   "source": []
  },
  {
   "cell_type": "markdown",
   "id": "d8e1758d-cb76-4196-a901-a39be3327c4a",
   "metadata": {},
   "source": [
    "# 2. Lorenz System\n",
    "\n",
    "We will study the numerical solutions of Lorenz system using **explicit** and **implicit** Euler methods. \n",
    "Then, we will show how to compute the derivatives."
   ]
  },
  {
   "cell_type": "markdown",
   "id": "4e441428-1a31-459a-beb4-c65a31456a2b",
   "metadata": {},
   "source": [
    "## 2.1. Lorenz System Definition\n",
    "The Lorenz system is defined by three coupled nonlinear ODEs:\n",
    "\n",
    "$$\n",
    "\\begin{aligned}\n",
    "\\frac{dx}{dt} &= \\sigma(y - x) \\\\\n",
    "\\frac{dy}{dt} &= x(\\rho - z) - y \\\\\n",
    "\\frac{dz}{dt} &= xy - \\beta z\n",
    "\\end{aligned}\n",
    "$$\n",
    "\n",
    "where $ \\mathbf{y} = [x, y, z]^T $ is the state vector, and $ \\sigma, \\rho, \\beta $ are system parameters."
   ]
  },
  {
   "cell_type": "code",
   "execution_count": 16,
   "id": "3e9f4f65-e81a-461c-992d-831e2bb14b5c",
   "metadata": {},
   "outputs": [],
   "source": [
    "# Define Lorenz system RHS\n",
    "def lorenz_rhs(state, params):\n",
    "    rho, sigma, beta = params\n",
    "    x, y, z = state\n",
    "    dxdt = sigma * (y - x)\n",
    "    dydt = x * (rho - z) - y\n",
    "    dzdt = x * y - beta * z\n",
    "    return np.array([dxdt, dydt, dzdt])"
   ]
  },
  {
   "cell_type": "markdown",
   "id": "dbd10cbc-b8b5-425a-a487-8a64c3592670",
   "metadata": {},
   "source": [
    "## 2.2 Explicit Euler Method\n",
    "\n",
    "The explicit Euler method approximates:\n",
    "\n",
    "$$\n",
    "\\mathbf{y}_{n+1} = \\mathbf{y}_n + \\Delta t \\cdot \\mathbf{f}(\\mathbf{y}_n, t_n)\n",
    "$$\n",
    "\n",
    "For the Lorenz system:\n",
    "\n",
    "$$\n",
    "\\begin{aligned}\n",
    "x_{n+1} &= x_n + \\Delta t[\\sigma(y_n - x_n)] \\\\\n",
    "y_{n+1} &= y_n + \\Delta t[x_n(\\rho - z_n) - y_n] \\\\\n",
    "z_{n+1} &= z_n + \\Delta t[x_n y_n - \\beta z_n]\n",
    "\\end{aligned}\n",
    "$$\n",
    "\n",
    "**Note**: The explicit Euler updating scheme fits into the framework we discussed in Lecture 10:\n",
    "$$\n",
    "\\begin{aligned}\n",
    "\\boldsymbol{U}^{n} = \\boldsymbol{F}(\\boldsymbol{U}^{n-1}, \\boldsymbol{\\Theta})\n",
    "\\end{aligned}\n",
    "$$\n",
    "where $\\boldsymbol{U}^{n}=\\mathbf{y}_n$ and $\\boldsymbol{\\Theta}=[\\sigma, \\rho, \\beta]$"
   ]
  },
  {
   "cell_type": "code",
   "execution_count": 17,
   "id": "1153c812-3609-4fc7-9b3e-6b4d3c3742cb",
   "metadata": {},
   "outputs": [
    {
     "name": "stdout",
     "output_type": "stream",
     "text": [
      "Final state: [-9.10891 -8.42038 28.64831]\n"
     ]
    },
    {
     "data": {
      "text/plain": [
       "[<mpl_toolkits.mplot3d.art3d.Line3D at 0x1dffa6700>]"
      ]
     },
     "execution_count": 17,
     "metadata": {},
     "output_type": "execute_result"
    },
    {
     "data": {
      "image/png": "[encoded data removed]",
      "text/plain": [
       "<Figure size 900x600 with 1 Axes>"
      ]
     },
     "metadata": {},
     "output_type": "display_data"
    }
   ],
   "source": [
    "# Explicit euler integration scheme\n",
    "@jax.jit\n",
    "def explicit_euler(y_current, params):\n",
    "    y_next = y_current + dt * lorenz_rhs(y_current, params)\n",
    "    return y_next\n",
    "\n",
    "# Integration function\n",
    "def integrate_lorenz_explicit(y0, params):  \n",
    "    ys = []\n",
    "    y = y0\n",
    "    for i in range(num_steps):\n",
    "        # print(f\"i = {i}\")\n",
    "        y = explicit_euler(y, params)\n",
    "        ys.append(y)\n",
    "    ys = np.array(ys)\n",
    "    return y, ys\n",
    "\n",
    "# Integration parameters\n",
    "dt = 0.001\n",
    "# total_time = 1.0\n",
    "total_time = 1.\n",
    "num_steps = int(total_time / dt)\n",
    "\n",
    "# Lorenz system parameters\n",
    "params = np.array([28.0, 10.0, 8.0/3.0])  # rho, sigma, beta\n",
    "# Initial conditions\n",
    "y0 = np.array([1.0, 1.0, 1.0])\n",
    "\n",
    "yf, ys = integrate_lorenz_explicit(y0, params)\n",
    "print(\"Final state:\", yf)\n",
    "\n",
    "# Visualize the results\n",
    "fig = plt.figure(figsize=(6, 4), dpi=150)\n",
    "ax = fig.add_subplot(projection='3d')\n",
    "x0, x1, x2 = ys.T\n",
    "ax.plot(x0, x1, x2, lw=0.5, color='b')"
   ]
  },
  {
   "cell_type": "markdown",
   "id": "7c39a8ab-1472-43c3-8b9b-f5c400687859",
   "metadata": {},
   "source": [
    "## 2.3 Implicit Euler Method\n",
    "\n",
    "\n",
    "The implicit Euler method solves:\n",
    "\n",
    "$$\n",
    "\\mathbf{y}_{n+1} = \\mathbf{y}_n + \\Delta t \\cdot \\mathbf{f}(\\mathbf{y}_{n+1}, t_{n+1})\n",
    "$$\n",
    "\n",
    "This results in a nonlinear system to solve at each step:\n",
    "\n",
    "$$\n",
    "\\mathbf{F}(\\mathbf{y}_{n+1}) = \\mathbf{y}_{n+1} - \\mathbf{y}_n - \\Delta t \\cdot \\mathbf{f}(\\mathbf{y}_{n+1}) = 0\n",
    "$$\n",
    "\n",
    "**Newton-Raphson Iteration**\n",
    "\n",
    "Solve $ \\mathbf{F}(\\mathbf{y}_{n+1}) = 0 $ using:\n",
    "\n",
    "$$\n",
    "\\mathbf{y}_{n+1}^{(k+1)} = \\mathbf{y}_{n+1}^{(k)} - [J_F(\\mathbf{y}_{n+1}^{(k)})]^{-1} \\mathbf{F}(\\mathbf{y}_{n+1}^{(k)})\n",
    "$$\n",
    "\n",
    "Where the Jacobian $ J_F $ is:\n",
    "\n",
    "$$\n",
    "J_F = I - \\Delta t \\cdot J(\\mathbf{y}_{n+1}^{(k)})\n",
    "$$\n",
    "\n",
    "The term $ J(\\mathbf{y}) = \\frac{\\partial \\mathbf{f}}{\\partial \\mathbf{y}} $ for Lorenz system:\n",
    "\n",
    "$$\n",
    "J(\\mathbf{y}) = \\begin{bmatrix}\n",
    "-\\sigma & \\sigma & 0 \\\\\n",
    "\\rho - z & -1 & -x \\\\\n",
    "y & x & -\\beta\n",
    "\\end{bmatrix}\n",
    "$$\n",
    "\n",
    "Remark: We can use AD to compute this Jacobian.\n",
    "\n",
    "**Note**: The implicit Euler updaing scheme fits into the framework we discussed in Lecture 10:\n",
    "$$\n",
    "\\begin{aligned}\n",
    "\\boldsymbol{U}^{n} &= \\boldsymbol{U}^n(\\boldsymbol{U}^{n-1}, \\boldsymbol{\\Theta})\n",
    "\\end{aligned}\n",
    "$$\n",
    "where the implicit relation is defined through the following residual function:\n",
    "$$\n",
    "\\begin{aligned}\n",
    "\\boldsymbol{R}(\\boldsymbol{U}^{n}, \\boldsymbol{U}^{n-1}, \\boldsymbol{\\Theta})&=\\boldsymbol{0}\n",
    "\\end{aligned}\n",
    "$$"
   ]
  },
  {
   "cell_type": "code",
   "execution_count": 18,
   "id": "13922749-22c5-485c-8575-c4a88efc4d7f",
   "metadata": {},
   "outputs": [
    {
     "name": "stdout",
     "output_type": "stream",
     "text": [
      "Final state: [-9.65703 -8.3499  30.01758]\n"
     ]
    },
    {
     "data": {
      "text/plain": [
       "[<mpl_toolkits.mplot3d.art3d.Line3D at 0x1e01e9910>]"
      ]
     },
     "execution_count": 18,
     "metadata": {},
     "output_type": "execute_result"
    },
    {
     "data": {
      "image/png": "[encoded data removed]",
      "text/plain": [
       "<Figure size 900x600 with 1 Axes>"
      ]
     },
     "metadata": {},
     "output_type": "display_data"
    }
   ],
   "source": [
    "# Residual function R\n",
    "def residual(y_next, y_current, param):\n",
    "    return y_next - y_current - dt * lorenz_rhs(y_next, params)\n",
    "\n",
    "@jax.jit\n",
    "def implicit_euler(y_current, params):\n",
    "\n",
    "    # Initial guess using explicit Euler\n",
    "    y_guess = y_current + dt * lorenz_rhs(y_current, params)\n",
    "    \n",
    "    # Initialize loop state: (iteration, y_guess, residual_norm, converged)\n",
    "    init_state = (np.array(0, dtype=np.int32), y_guess, np.array(np.inf, dtype=np.float64))\n",
    "\n",
    "    def cond_fn(state):\n",
    "        iteration, _, residual_norm = state\n",
    "        max_iters=100\n",
    "        tol=1e-8\n",
    "        return (iteration < max_iters) & (residual_norm > tol)\n",
    "\n",
    "    def body_fn(state):  \n",
    "        iteration, y, _ = state\n",
    "        F = residual(y, y_current, params)\n",
    "        J = jax.jacfwd(residual)(y, y_current, params)\n",
    "        delta = np.linalg.solve(J, -F)\n",
    "        y_new = y + delta\n",
    "        residual_norm = np.linalg.norm(F)\n",
    "        return iteration + 1, y_new, residual_norm\n",
    "\n",
    "    # Run Newton iterations\n",
    "    final_state = jax.lax.while_loop(cond_fn, body_fn, init_state)\n",
    "    y_next = final_state[1]\n",
    "    \n",
    "    return y_next\n",
    "\n",
    "# Integration function\n",
    "def integrate_lorenz_implicit(y0, params):  \n",
    "    ys = []\n",
    "    y = y0\n",
    "    for i in range(num_steps):\n",
    "        # print(f\"i = {i}\")\n",
    "        y = implicit_euler(y, params)\n",
    "        ys.append(y)\n",
    "    ys = np.array(ys)\n",
    "    return y, ys\n",
    "    \n",
    "# Integration parameters\n",
    "dt = 0.001\n",
    "# total_time = 1.0\n",
    "total_time = 1.\n",
    "num_steps = int(total_time / dt)\n",
    "\n",
    "# Perform integration\n",
    "yf, ys = integrate_lorenz_implicit(y0, params)\n",
    "print(\"Final state:\", yf)\n",
    "\n",
    "fig = plt.figure(figsize=(6, 4), dpi=150)\n",
    "ax = fig.add_subplot(projection='3d')\n",
    "x0, x1, x2 = ys.T\n",
    "ax.plot(x0, x1, x2, lw=0.5, color='b')"
   ]
  },
  {
   "cell_type": "markdown",
   "id": "c1628483-1db7-469c-9d38-f328fe21ae32",
   "metadata": {},
   "source": [
    "## 2.4 Derivatives for Explicit Euler Method\n",
    "\n",
    "Let $L(\\boldsymbol{U}^{0}, \\boldsymbol{\\Theta})$ be the objective function depending on both initial value $\\boldsymbol{U}^{0}$ and parameters $\\boldsymbol{\\Theta}$. \n",
    "\n",
    "The goal is to find the total derivative $\\frac{dL}{d\\boldsymbol{U}^{0}}$ and $\\frac{dL}{d\\boldsymbol{\\Theta}}$.\n",
    "\n",
    "In JAX, you can directly call `jax.grad` since everything is explicit.\n",
    "\n",
    "You may need to use `jax.checkpoint` if memory is an issue."
   ]
  },
  {
   "cell_type": "code",
   "execution_count": 19,
   "id": "1c29d95d-b658-4557-a75e-0d35aa6441d5",
   "metadata": {},
   "outputs": [
    {
     "name": "stdout",
     "output_type": "stream",
     "text": [
      "AD derivative = (Array([-11.7421 , -10.74929,  38.72791], dtype=float64), Array([ 70.40913,  22.95309, 340.3513 ], dtype=float64))\n"
     ]
    }
   ],
   "source": [
    "def loss_explicit(y0, params):\n",
    "    yf, _ = integrate_lorenz_explicit(y0, params)\n",
    "    return np.sum(yf**2) + np.sum(params**2)\n",
    "\n",
    "grad_ad = jax.grad(loss_explicit, argnums=(0, 1))(y0, params)\n",
    "print(f\"AD derivative = {grad_ad}\")"
   ]
  },
  {
   "cell_type": "code",
   "execution_count": 20,
   "id": "d0f6232e-610e-47a2-9c89-ba453a1cad6e",
   "metadata": {},
   "outputs": [
    {
     "name": "stdout",
     "output_type": "stream",
     "text": [
      "FD derivative = -11.742094756982624\n"
     ]
    }
   ],
   "source": [
    "h = 1e-3\n",
    "val_minus = loss_explicit(y0.at[0].add(-h), params)\n",
    "val_plus = loss_explicit(y0.at[0].add(h), params)\n",
    "grad_fd = (val_plus - val_minus)/(2*h)\n",
    "print(f\"FD derivative = {grad_fd}\")"
   ]
  },
  {
   "cell_type": "code",
   "execution_count": 21,
   "id": "f62e4e72-e2db-4b7a-aceb-5842b0fc19d2",
   "metadata": {},
   "outputs": [
    {
     "name": "stdout",
     "output_type": "stream",
     "text": [
      "FD derivative = 340.35141685512826\n"
     ]
    }
   ],
   "source": [
    "val_minus = loss_explicit(y0, params.at[2].add(-h))\n",
    "val_plus = loss_explicit(y0, params.at[2].add(h))\n",
    "grad_fd = (val_plus - val_minus)/(2*h)\n",
    "print(f\"FD derivative = {grad_fd}\")"
   ]
  },
  {
   "cell_type": "markdown",
   "id": "4f8f7242-dfd2-4159-9777-09c4b746db5f",
   "metadata": {},
   "source": [
    "## 2.5 Derivatives for Implicit Euler Method\n",
    "\n",
    "Let $L(\\boldsymbol{U}^{0}, \\boldsymbol{\\Theta})$ be the objective function depending on both initial value $\\boldsymbol{U}^{0}$ and parameters $\\boldsymbol{\\Theta}$. \n",
    "\n",
    "The goal is to find the total derivative $\\frac{dL}{d\\boldsymbol{U}^{0}}$ and $\\frac{dL}{d\\boldsymbol{\\Theta}}$.\n",
    "\n",
    "In this implicit senario, directly calling `jax.grad` is a bad practice since it will differentiate through the internal loops of Newton's method. "
   ]
  },
  {
   "cell_type": "code",
   "execution_count": 22,
   "id": "2757f0b6-3387-4a32-830c-c123c30c3cfe",
   "metadata": {},
   "outputs": [],
   "source": [
    "def loss_implicit(y0, params):\n",
    "    yf, _ = integrate_lorenz_implicit(y0, params)\n",
    "    return np.sum(yf**2) + np.sum(params**2)\n",
    "\n",
    "# Differentiation through the internal loops (bad practice)\n",
    "# This should be avoided due to efficiency, even if you use fori_loop and make the code run with a correct returning value.\n",
    "# grad_ad = jax.grad(loss_implicit, argnums=(0, 1))(y0, params)"
   ]
  },
  {
   "cell_type": "markdown",
   "id": "91a13540-4956-4437-9a70-a70b2602bc7a",
   "metadata": {},
   "source": [
    "The good practice is to use the adjoint method and define customized VJP for the update function, as we discussed in Lecture 10. "
   ]
  },
  {
   "cell_type": "code",
   "execution_count": 23,
   "id": "bd600dce-0b68-43c3-8300-71dbcfd8c034",
   "metadata": {},
   "outputs": [
    {
     "name": "stdout",
     "output_type": "stream",
     "text": [
      "AD derivative = (Array([-28.13924, -23.98771,  40.72138], dtype=float64), Array([56.     , 20.     ,  5.33333], dtype=float64))\n"
     ]
    }
   ],
   "source": [
    "# Define custom VJP for the function fwd\n",
    "def ad_wrapper_lorenz(fwd):\n",
    "    @jax.custom_vjp\n",
    "    def fwd_wrapped(y_current, params):\n",
    "        y_next = fwd(y_current, params)\n",
    "        return y_next\n",
    "\n",
    "    def f_fwd(y_current, params):\n",
    "        y_next = fwd_wrapped(y_current, params)\n",
    "        return y_next, (y_next, y_current, params)\n",
    "\n",
    "    @jax.jit\n",
    "    def f_bwd(res, v):\n",
    "        # print(\"Running backward and solving the adjoint problem...\")\n",
    "        y_next, y_current, params = res\n",
    "        J = jax.jacfwd(residual)(y_next, y_current, params)\n",
    "        adjoint = np.linalg.solve(J.T, -v)\n",
    "        primals_out, f_vjp = jax.vjp(lambda y_current, params: residual(y_next, y_current, params), y_current, params)\n",
    "        vjp_y_current, vjp_params = f_vjp(adjoint)\n",
    "        return vjp_y_current, vjp_params\n",
    "\n",
    "    fwd_wrapped.defvjp(f_fwd, f_bwd)\n",
    "    return fwd_wrapped\n",
    "\n",
    "# implicit_euler_wrapped will follow the user-defined behavior for reverse-mode AD\n",
    "implicit_euler_wrapped = ad_wrapper_lorenz(implicit_euler)\n",
    "\n",
    "# Redefine the integration function using implicit_euler_wrapped\n",
    "def integrate_lorenz_implicit_wrapped(y0, params):  \n",
    "    ys = []\n",
    "    y = y0\n",
    "    for i in range(num_steps):\n",
    "        # print(f\"i = {i}\")\n",
    "        y = implicit_euler_wrapped(y, params)\n",
    "        ys.append(y)\n",
    "    ys = np.array(ys)\n",
    "    return y, ys\n",
    "\n",
    "# Redefine the loss function using integrate_lorenz_implicit_wrapped\n",
    "def loss_implicit_wrapped(y0, params):\n",
    "    yf, _ = integrate_lorenz_implicit_wrapped(y0, params)\n",
    "    return np.sum(yf**2) + np.sum(params**2)\n",
    "    \n",
    "grad_ad = jax.grad(loss_implicit_wrapped, argnums=(0, 1))(y0, params)\n",
    "print(f\"AD derivative = {grad_ad}\")"
   ]
  },
  {
   "cell_type": "code",
   "execution_count": 24,
   "id": "cd16a2a1-4a35-4417-b671-dd48b46bd2f3",
   "metadata": {},
   "outputs": [
    {
     "name": "stdout",
     "output_type": "stream",
     "text": [
      "FD derivative = 40.72137833838951\n"
     ]
    }
   ],
   "source": [
    "h = 1e-3\n",
    "val_minus = loss_implicit_wrapped(y0.at[2].add(-h), params)\n",
    "val_plus = loss_implicit_wrapped(y0.at[2].add(h), params)\n",
    "grad_fd = (val_plus - val_minus)/(2*h)\n",
    "print(f\"FD derivative = {grad_fd}\")"
   ]
  },
  {
   "cell_type": "code",
   "execution_count": 25,
   "id": "9d46d2a4-c3f8-47fd-b351-86e3b91b5a58",
   "metadata": {},
   "outputs": [
    {
     "name": "stdout",
     "output_type": "stream",
     "text": [
      "FD derivative = 5.333333333283008\n"
     ]
    }
   ],
   "source": [
    "val_minus = loss_implicit_wrapped(y0, params.at[2].add(-h))\n",
    "val_plus = loss_implicit_wrapped(y0, params.at[2].add(h))\n",
    "grad_fd = (val_plus - val_minus)/(2*h)\n",
    "print(f\"FD derivative = {grad_fd}\")"
   ]
  },
  {
   "cell_type": "markdown",
   "id": "22c27bc5-0b2a-4834-8867-e00829529c4b",
   "metadata": {},
   "source": [
    "# 3. JAX-FEM"
   ]
  },
  {
   "cell_type": "markdown",
   "id": "f97ffc26-52c9-4f32-b63a-cdc556171542",
   "metadata": {},
   "source": [
    "## 3.1. Strong Form and Weak Form\n",
    "\n",
    "**Strong Form**\n",
    "\n",
    "The Poisson equation is a classical elliptic partial differential equation (PDE) commonly used to describe equilibrium or steady-state diffusion processes, such as steady-state heat conduction and electrostatic fields. In this case study, we consider a Poisson equation boundary value problem defined on a two-dimensional computational domain Ω = (0,1) × (0,1):\n",
    "\n",
    "$$\n",
    "\\begin{align*}\n",
    "    -\\nabla \\cdot (\\theta(\\boldsymbol{x})\\nabla u) = g & \\quad \\text{in } \\Omega, \\\\\n",
    "    u = 0 & \\quad \\text{on } \\Gamma_D, \\\\\n",
    "    k(\\boldsymbol{x})\\nabla u \\cdot \\boldsymbol{n} =0 &\\quad \\text{on } \\Gamma_N\n",
    "\\end{align*}\n",
    "$$\n",
    "where $\\theta(\\boldsymbol{x})$ is the nonhomogeneous heat conductivity.\n",
    "\n",
    "Zero-value Dirichlet boundary conditions are applied on the left and right boundaries of the domain Ω, i.e., \n",
    "$$\n",
    "\\Gamma_D = \\{(0, y) \\cup (1, y) \\subset \\partial\\Omega\\}\n",
    "$$\n",
    "\n",
    "We consider a volumetric source term defined as:\n",
    "$$\n",
    "g = 10\\exp\\left(-\\frac{(x-0.5)^2 + (y-0.5)^2}{0.02}\\right)\n",
    "$$\n",
    "\n",
    "**Weak Form**\n",
    "\n",
    "We first derive the weak form of the aforementioned Poisson equation: First, multiply both sides of the governing equation by the test function $v$:\n",
    "$$\n",
    "-\\int_\\Omega (\\nabla \\cdot (\\theta(\\boldsymbol{x})\\nabla u)) v \\, dx = \\int_\\Omega g \\, v \\, dx\n",
    "$$\n",
    "From integration by parts:\n",
    "$$\n",
    "\\int_\\Omega \\theta(\\boldsymbol{x}) \\nabla u \\cdot \\nabla v \\, dx - \\int_{\\partial \\Omega} \\theta(\\boldsymbol{x})\\frac{\\partial u}{\\partial n} v \\, ds = \\int_\\Omega g \\, v \\, dx\n",
    "$$\n",
    "Consider boundary conditions, we obtain the final weak form expression:\n",
    "$$\n",
    "\\int_\\Omega k(\\boldsymbol{x})\\nabla u \\cdot \\nabla v \\, dx = \\int_\\Omega g \\, v \\, dx\n",
    "$$\n"
   ]
  },
  {
   "cell_type": "markdown",
   "id": "a30075c6-de77-4608-ad11-0a1f64214a52",
   "metadata": {},
   "source": [
    "## 3.2 Implementation in JAX-FEM\n",
    "\n",
    "**Galarkin weak form**\n",
    "\n",
    "We first define the aforementioned weak form based on the `Problem` base class to derive our problem subclass. When defining weak forms in `jax-fem`, a crucial concept is `kernel`, which helps us define weak forms corresponding to partial differential equations in a more universal and efficient way. This concept also appears in many other open-source finite element software (e.g., `MOOSE`).\n",
    "\n",
    "`jax-fem` currently includes two types of `kernel`, used for computing volume integrals and boundary integrals respectively. The volume integrals constituting the aforementioned weak form can be divided into three categories:\n",
    "\n",
    "* **Laplace Kernel**  \n",
    "$$\\int_{\\Omega} f(\\nabla u, \\theta)\\cdot \\nabla v$$\n",
    "\n",
    "* **Mass Kernel**  \n",
    "$$\\int_{\\Omega}g(u,\\theta)v$$\n",
    "\n",
    "* **Universal Kernel** (More general weak form definition, commonly used for multi-physics coupling problems, to be explained in subsequent tutorials)\n",
    "\n",
    "To define the aforementioned weak form, we do not need to define the complete computation process, only need to define the functions $f(\\nabla u,\\theta)$ and $g(u,\\theta)$, where $\\theta$ represents input parameters. \n",
    "These correspond to `tensor_map` and `mass_map` in the code below. \n",
    "Note these two functions must be returned (as functions) by `get_tensor_map` and `get_mass_map` respectively."
   ]
  },
  {
   "cell_type": "code",
   "execution_count": 26,
   "id": "4e745616-2dda-4e0d-9277-5faf0ba64e0f",
   "metadata": {},
   "outputs": [],
   "source": [
    "class Poisson(Problem):\n",
    "    def get_tensor_map(self):\n",
    "        \"\"\"Defines Laplace operator\"\"\"\n",
    "        def tensor_map(u_grad, theta):\n",
    "            # Deals with ∇u·∇v\n",
    "            return theta*u_grad  \n",
    "        return tensor_map\n",
    "    \n",
    "    def get_mass_map(self):\n",
    "        \"\"\"Defines source term\"\"\"\n",
    "        def mass_map(u, x, theta):\n",
    "            # Deals with g*v\n",
    "            return -np.array([10*np.exp(-(np.power(x[0] - 0.5, 2) + np.power(x[1] - 0.5, 2)) / 0.02)])\n",
    "        return mass_map\n",
    "\n",
    "    def set_params(self, thetas):\n",
    "        self.internal_vars = [thetas]"
   ]
  },
  {
   "cell_type": "markdown",
   "id": "3fe16df6-56e9-4896-b46b-07a594638177",
   "metadata": {},
   "source": [
    "**Generate Mesh**\n",
    "\n",
    "Next, we proceed to the definition of the mesh model. For the quadrilateral elements in this case, we can directly use the `rectangle_mesh` function from the `jax_fem.generate_mesh` module to perform structured mesh generation. For other complex mesh models, we can first create models using professional pre-processing or commercial software, generate meshes, export them as mesh data files, and then import them using `meshio`."
   ]
  },
  {
   "cell_type": "code",
   "execution_count": 27,
   "id": "b6cf40dc-209f-4fb8-b3fb-0a8d6d062537",
   "metadata": {},
   "outputs": [],
   "source": [
    "# Define the mesh\n",
    "ele_type = 'QUAD4'\n",
    "cell_type = get_meshio_cell_type(ele_type)\n",
    "Lx, Ly = 1., 1.\n",
    "meshio_mesh = rectangle_mesh(Nx=64, Ny=64, domain_x=Lx, domain_y=Ly)\n",
    "mesh = Mesh(meshio_mesh.points, meshio_mesh.cells_dict[cell_type])"
   ]
  },
  {
   "cell_type": "markdown",
   "id": "dcd0a5f4-1553-4d28-9660-76474e4d1e7c",
   "metadata": {},
   "source": [
    "**Specify Boundary Conditions**\n",
    "\n",
    "Next, we proceed to the definition of boundary conditions. For Dirichlet boundary conditions defined on $\\partial\\Omega$, we need to define them from three aspects:\n",
    "* **\"Where\"**: Define functions identifying boundary regions\n",
    "* **\"What value\"**: Define boundary values imposed on these boundaries\n",
    "* **\"Which component\"**: Specify which component of the solution to constrain\n",
    "\n",
    "The code below demonstrates the standard workflow in `jax-fem` for defining Dirichlet boundary conditions, corresponding one-to-one with the three aspects mentioned above. Regarding the third aspect, since the solution to the Poisson problem is a scalar quantity, the constrained component indices are all `0`."
   ]
  },
  {
   "cell_type": "code",
   "execution_count": 28,
   "id": "8f8cff9e-f6dd-45e0-a8ab-b4337c819f18",
   "metadata": {},
   "outputs": [],
   "source": [
    "# Define the boudanry conditions\n",
    "def left(point):\n",
    "    return np.isclose(point[0], 0., atol=1e-5)\n",
    "\n",
    "def right(point):\n",
    "    return np.isclose(point[0], Lx, atol=1e-5)\n",
    "\n",
    "def dirichlet_val_zero(point):\n",
    "    return 0.\n",
    "\n",
    "# location of each boundary part\n",
    "location_fns = [left, right]\n",
    "# What's the assigned value on each boundary part\n",
    "# for this example, all the value functions are the same\n",
    "value_fns = [dirichlet_val_zero] * 2\n",
    "# which component of the solution on each boundary is constrained? （0 -- x, 1 -- y, 2 -- z）\n",
    "vecs = [0, 0]\n",
    "\n",
    "# construct the Dirichlet boundary conditions struct\n",
    "dirichlet_bc_info = [location_fns, vecs, value_fns]"
   ]
  },
  {
   "cell_type": "markdown",
   "id": "b651c662-bba9-4223-a825-2292acd6fd54",
   "metadata": {},
   "source": [
    "**Define the problem, solve it, and save the solution**"
   ]
  },
  {
   "cell_type": "code",
   "execution_count": 29,
   "id": "31f9785c-a6c5-4eb7-afa9-5f62dc76729a",
   "metadata": {},
   "outputs": [
    {
     "name": "stderr",
     "output_type": "stream",
     "text": [
      "[04-22 16:21:20][DEBUG] jax_fem: Computing shape function values, gradients, etc.\n",
      "[04-22 16:21:20][DEBUG] jax_fem: ele_type = QUAD4, quad_points.shape = (num_quads, dim) = (4, 2)\n",
      "[04-22 16:21:20][DEBUG] jax_fem: face_quad_points.shape = (num_faces, num_face_quads, dim) = (4, 2, 2)\n",
      "[04-22 16:21:21][DEBUG] jax_fem: Done pre-computations, took 1.0783791542053223 [s]\n",
      "[04-22 16:21:21][INFO] jax_fem: Solving a problem with 4096 cells, 4225x1 = 4225 dofs.\n",
      "[04-22 16:21:22][DEBUG] jax_fem: Calling the row elimination solver for imposing Dirichlet B.C.\n",
      "[04-22 16:21:22][DEBUG] jax_fem: Start timing\n",
      "[04-22 16:21:22][DEBUG] jax_fem: Computing cell Jacobian and cell residual...\n",
      "[04-22 16:21:23][DEBUG] jax_fem: Function split_and_compute_cell took 0.3062 seconds\n",
      "[04-22 16:21:24][DEBUG] jax_fem: Creating sparse matrix with scipy...\n",
      "[04-22 16:21:25][DEBUG] jax_fem: Before, l_2 res = 0.027638418037936253, relative l_2 res = 1.0\n",
      "[04-22 16:21:25][DEBUG] jax_fem: Solving linear system...\n",
      "[04-22 16:21:25][DEBUG] jax_fem: JAX Solver - Solving linear system\n",
      "[04-22 16:21:26][DEBUG] jax_fem: JAX Solver - Finshed solving, res = 8.510159409634758e-11\n",
      "[04-22 16:21:26][DEBUG] jax_fem: Computing cell Jacobian and cell residual...\n",
      "[04-22 16:21:26][DEBUG] jax_fem: Function split_and_compute_cell took 0.0122 seconds\n",
      "[04-22 16:21:26][DEBUG] jax_fem: Creating sparse matrix with scipy...\n",
      "[04-22 16:21:26][DEBUG] jax_fem: l_2 res = 8.510158351743886e-11, relative l_2 res = 3.0791047230210197e-09\n",
      "[04-22 16:21:26][INFO] jax_fem: Solve took 3.9691901206970215 [s]\n",
      "[04-22 16:21:26][DEBUG] jax_fem: max of dofs = 0.19742665603354997\n",
      "[04-22 16:21:26][DEBUG] jax_fem: min of dofs = 0.0\n"
     ]
    },
    {
     "data": {
      "text/html": [
       "<pre style=\"white-space:pre;overflow-x:auto;line-height:normal;font-family:Menlo,'DejaVu Sans Mono',consolas,'Courier New',monospace\"><span style=\"color: #808000; text-decoration-color: #808000; font-weight: bold\">Warning:</span><span style=\"color: #808000; text-decoration-color: #808000\"> VTK requires 3D points, but 2D points given. Appending </span><span style=\"color: #808000; text-decoration-color: #808000; font-weight: bold\">0</span><span style=\"color: #808000; text-decoration-color: #808000\"> third component.</span>\n",
       "</pre>\n"
      ],
      "text/plain": [
       "\u001b[1;33mWarning:\u001b[0m\u001b[33m VTK requires 3D points, but 2D points given. Appending \u001b[0m\u001b[1;33m0\u001b[0m\u001b[33m third component.\u001b[0m\n"
      ]
     },
     "metadata": {},
     "output_type": "display_data"
    }
   ],
   "source": [
    "# Define the problem\n",
    "problem = Poisson(mesh=mesh, \n",
    "                  vec=1, \n",
    "                  dim=2, \n",
    "                  ele_type=ele_type, \n",
    "                  dirichlet_bc_info=dirichlet_bc_info)\n",
    "\n",
    "# (num_cells, num_quads, dim)\n",
    "quad_points = problem.fes[0].get_physical_quad_points()\n",
    "\n",
    "# The parameter array thetas is defined at all quadrature points\n",
    "thetas = np.ones(quad_points.shape[:2])\n",
    "\n",
    "# Set the parameters\n",
    "problem.set_params(thetas)\n",
    "\n",
    "# Solve the problem\n",
    "sol_list = solver(problem)\n",
    "\n",
    "# Save the solution\n",
    "save_sol(problem.fes[0], sol_list[0], './output/sol.vtk')"
   ]
  },
  {
   "cell_type": "markdown",
   "id": "761e61d3-6708-480c-abea-d6d690b8547e",
   "metadata": {},
   "source": [
    "## 3.3 Implicit differentiation using JAX-FEM\n",
    "\n",
    "**Find the gradient**\n",
    "\n",
    "We will use the adjoint implicit differentiation method by JAX-FEM to find the gradient and compare that with a finite difference approach."
   ]
  },
  {
   "cell_type": "code",
   "execution_count": 30,
   "id": "78db1b74-4cff-43eb-b0d8-bc9e7633da80",
   "metadata": {},
   "outputs": [
    {
     "name": "stderr",
     "output_type": "stream",
     "text": [
      "[04-22 16:21:26][DEBUG] jax_fem: Calling the row elimination solver for imposing Dirichlet B.C.\n",
      "[04-22 16:21:26][DEBUG] jax_fem: Start timing\n",
      "[04-22 16:21:26][DEBUG] jax_fem: Computing cell Jacobian and cell residual...\n",
      "[04-22 16:21:26][DEBUG] jax_fem: Function split_and_compute_cell took 0.0081 seconds\n",
      "[04-22 16:21:26][DEBUG] jax_fem: Creating sparse matrix with scipy...\n",
      "[04-22 16:21:26][DEBUG] jax_fem: Before, l_2 res = 0.027638418037936253, relative l_2 res = 1.0\n",
      "[04-22 16:21:26][DEBUG] jax_fem: Solving linear system...\n",
      "[04-22 16:21:26][DEBUG] jax_fem: JAX Solver - Solving linear system\n",
      "[04-22 16:21:27][DEBUG] jax_fem: JAX Solver - Finshed solving, res = 8.510159409634758e-11\n",
      "[04-22 16:21:27][DEBUG] jax_fem: Computing cell Jacobian and cell residual...\n",
      "[04-22 16:21:27][DEBUG] jax_fem: Function split_and_compute_cell took 0.0105 seconds\n",
      "[04-22 16:21:27][DEBUG] jax_fem: Creating sparse matrix with scipy...\n",
      "[04-22 16:21:27][DEBUG] jax_fem: l_2 res = 8.510158351743886e-11, relative l_2 res = 3.0791047230210197e-09\n",
      "[04-22 16:21:27][INFO] jax_fem: Solve took 0.5052800178527832 [s]\n",
      "[04-22 16:21:27][DEBUG] jax_fem: max of dofs = 0.19742665603354997\n",
      "[04-22 16:21:27][DEBUG] jax_fem: min of dofs = 0.0\n",
      "[04-22 16:21:27][INFO] jax_fem: Running backward and solving the adjoint problem...\n",
      "[04-22 16:21:27][DEBUG] jax_fem: Computing cell Jacobian and cell residual...\n",
      "[04-22 16:21:27][DEBUG] jax_fem: Function split_and_compute_cell took 0.0085 seconds\n",
      "[04-22 16:21:27][DEBUG] jax_fem: Creating sparse matrix with scipy...\n",
      "[04-22 16:21:27][DEBUG] jax_fem: JAX Solver - Solving linear system\n",
      "[04-22 16:21:28][DEBUG] jax_fem: JAX Solver - Finshed solving, res = 9.25775778722195e-10\n",
      "[04-22 16:21:28][DEBUG] jax_fem: Computing cell residual...\n",
      "[04-22 16:21:29][DEBUG] jax_fem: Function split_and_compute_cell took 0.6176 seconds\n",
      "[04-22 16:21:30][DEBUG] jax_fem: Calling the row elimination solver for imposing Dirichlet B.C.\n",
      "[04-22 16:21:30][DEBUG] jax_fem: Start timing\n",
      "[04-22 16:21:30][DEBUG] jax_fem: Computing cell Jacobian and cell residual...\n",
      "[04-22 16:21:30][DEBUG] jax_fem: Function split_and_compute_cell took 0.0071 seconds\n",
      "[04-22 16:21:30][DEBUG] jax_fem: Creating sparse matrix with scipy...\n",
      "[04-22 16:21:30][DEBUG] jax_fem: Before, l_2 res = 0.027638418037936253, relative l_2 res = 1.0\n",
      "[04-22 16:21:30][DEBUG] jax_fem: Solving linear system...\n",
      "[04-22 16:21:30][DEBUG] jax_fem: JAX Solver - Solving linear system\n",
      "[04-22 16:21:31][DEBUG] jax_fem: JAX Solver - Finshed solving, res = 9.841210017559687e-11\n",
      "[04-22 16:21:31][DEBUG] jax_fem: Computing cell Jacobian and cell residual...\n",
      "[04-22 16:21:31][DEBUG] jax_fem: Function split_and_compute_cell took 0.0067 seconds\n",
      "[04-22 16:21:31][DEBUG] jax_fem: Creating sparse matrix with scipy...\n",
      "[04-22 16:21:31][DEBUG] jax_fem: l_2 res = 9.841210522582199e-11, relative l_2 res = 3.5606996424593618e-09\n",
      "[04-22 16:21:31][INFO] jax_fem: Solve took 0.4895141124725342 [s]\n",
      "[04-22 16:21:31][DEBUG] jax_fem: max of dofs = 0.19742666288384664\n",
      "[04-22 16:21:31][DEBUG] jax_fem: min of dofs = 0.0\n",
      "[04-22 16:21:31][DEBUG] jax_fem: Calling the row elimination solver for imposing Dirichlet B.C.\n",
      "[04-22 16:21:31][DEBUG] jax_fem: Start timing\n",
      "[04-22 16:21:31][DEBUG] jax_fem: Computing cell Jacobian and cell residual...\n",
      "[04-22 16:21:31][DEBUG] jax_fem: Function split_and_compute_cell took 0.0071 seconds\n",
      "[04-22 16:21:31][DEBUG] jax_fem: Creating sparse matrix with scipy...\n",
      "[04-22 16:21:31][DEBUG] jax_fem: Before, l_2 res = 0.027638418037936253, relative l_2 res = 1.0\n",
      "[04-22 16:21:31][DEBUG] jax_fem: Solving linear system...\n",
      "[04-22 16:21:31][DEBUG] jax_fem: JAX Solver - Solving linear system\n",
      "[04-22 16:21:31][DEBUG] jax_fem: JAX Solver - Finshed solving, res = 6.247957199150502e-11\n",
      "[04-22 16:21:31][DEBUG] jax_fem: Computing cell Jacobian and cell residual...\n",
      "[04-22 16:21:31][DEBUG] jax_fem: Function split_and_compute_cell took 0.0116 seconds\n",
      "[04-22 16:21:31][DEBUG] jax_fem: Creating sparse matrix with scipy...\n",
      "[04-22 16:21:31][DEBUG] jax_fem: l_2 res = 6.247957958322302e-11, relative l_2 res = 2.260606214779156e-09\n",
      "[04-22 16:21:31][INFO] jax_fem: Solve took 0.4862401485443115 [s]\n",
      "[04-22 16:21:31][DEBUG] jax_fem: max of dofs = 0.1974266495279361\n",
      "[04-22 16:21:31][DEBUG] jax_fem: min of dofs = 0.0\n"
     ]
    },
    {
     "name": "stdout",
     "output_type": "stream",
     "text": [
      "grad_ad.shape = (4096, 4)\n",
      "grad_fd.shape = ()\n",
      "grad_ad can give the gradient all at once, but grad_fd can only give one value!\n",
      "Let's compare the value by both methods:\n",
      "grad_ad[0, 0] = -0.004794612095758944\n",
      "grad_fd = -0.004794615236392019\n"
     ]
    }
   ],
   "source": [
    "fwd_pred = ad_wrapper(problem) \n",
    "\n",
    "def J(thetas):\n",
    "    sol_list = fwd_pred(thetas)\n",
    "    return np.sum(sol_list[0]**2)\n",
    "\n",
    "grad_ad = jax.grad(J)(thetas)\n",
    "\n",
    "h = 1e-3\n",
    "value_minus = J(thetas.at[0, 0].add(-h))\n",
    "value_plus = J(thetas.at[0, 0].add(h))\n",
    "grad_fd = (value_plus - value_minus)/(2.*h)\n",
    "\n",
    "print(f\"grad_ad.shape = {grad_ad.shape}\")\n",
    "print(f\"grad_fd.shape = {grad_fd.shape}\")\n",
    "print(f\"grad_ad can give the gradient all at once, but grad_fd can only give one value!\")\n",
    "print(f\"Let's compare the value by both methods:\")\n",
    "print(f\"grad_ad[0, 0] = {grad_ad[0, 0]}\")\n",
    "print(f\"grad_fd = {grad_fd}\")"
   ]
  },
  {
   "cell_type": "code",
   "execution_count": null,
   "id": "8d00064c-2186-4734-adfb-4a1ab3b971c4",
   "metadata": {},
   "outputs": [],
   "source": []
  }
 ],
 "metadata": {
  "kernelspec": {
   "display_name": "Python 3 (ipykernel)",
   "language": "python",
   "name": "python3"
  },
  "language_info": {
   "codemirror_mode": {
    "name": "ipython",
    "version": 3
   },
   "file_extension": ".py",
   "mimetype": "text/x-python",
   "name": "python",
   "nbconvert_exporter": "python",
   "pygments_lexer": "ipython3",
   "version": "3.9.18"
  }
 },
 "nbformat": 4,
 "nbformat_minor": 5
}
